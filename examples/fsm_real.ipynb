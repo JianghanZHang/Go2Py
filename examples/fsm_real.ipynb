{
 "cells": [
  {
   "cell_type": "code",
   "execution_count": 1,
   "metadata": {},
   "outputs": [],
   "source": [
    "from Go2Py.robot.interface.dds import GO2Real\n",
    "import time\n",
    "from Go2Py.sim.mujoco import Go2Sim\n",
    "from Go2Py.robot.fsm import FSM\n",
    "from Go2Py.robot.remote import KeyboardRemote\n",
    "from Go2Py.robot.safety import SafetyHypervisor\n",
    "import numpy as np"
   ]
  },
  {
   "cell_type": "code",
   "execution_count": null,
   "metadata": {},
   "outputs": [],
   "source": [
    "robot = GO2Real(mode='lowlevel')\n",
    "remote = KeyboardRemote()\n",
    "safety_hypervisor = SafetyHypervisor(robot)"
   ]
  },
  {
   "cell_type": "code",
   "execution_count": 6,
   "metadata": {},
   "outputs": [],
   "source": [
    "fsm = FSM(robot, remote, safety)"
   ]
  },
  {
   "cell_type": "code",
   "execution_count": 7,
   "metadata": {},
   "outputs": [],
   "source": [
    "fsm.close()"
   ]
  }
 ],
 "metadata": {
  "kernelspec": {
   "display_name": "b1-env",
   "language": "python",
   "name": "python3"
  },
  "language_info": {
   "codemirror_mode": {
    "name": "ipython",
    "version": 3
   },
   "file_extension": ".py",
   "mimetype": "text/x-python",
   "name": "python",
   "nbconvert_exporter": "python",
   "pygments_lexer": "ipython3",
   "version": "3.8.18"
  }
 },
 "nbformat": 4,
 "nbformat_minor": 2
}
