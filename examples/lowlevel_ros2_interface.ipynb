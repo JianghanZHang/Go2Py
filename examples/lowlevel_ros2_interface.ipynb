{
 "cells": [
  {
   "cell_type": "markdown",
   "metadata": {},
   "source": [
    "# Lowlevel Interface Test"
   ]
  },
  {
   "cell_type": "code",
   "execution_count": 1,
   "metadata": {},
   "outputs": [
    {
     "name": "stdout",
     "output_type": "stream",
     "text": [
      "pygame 2.5.2 (SDL 2.28.2, Python 3.8.18)\n",
      "Hello from the pygame community. https://www.pygame.org/contribute.html\n"
     ]
    }
   ],
   "source": [
    "from Go2Py.robot.interface.ros2 import GO2Real, ros2_init, ROS2ExecutorManager\n",
    "import time\n",
    "ros2_init()\n",
    "robot = GO2Real(mode='lowlevel')\n",
    "ros2_exec_manager = ROS2ExecutorManager()\n",
    "ros2_exec_manager.add_node(robot)\n",
    "ros2_exec_manager.start()"
   ]
  },
  {
   "cell_type": "code",
   "execution_count": null,
   "metadata": {},
   "outputs": [],
   "source": [
    "robot.getJointStates()"
   ]
  },
  {
   "cell_type": "code",
   "execution_count": 3,
   "metadata": {},
   "outputs": [],
   "source": [
    "import numpy as np\n",
    "import time\n",
    "for i in range(10000):\n",
    "    q = np.zeros(12) \n",
    "    dq = np.zeros(12)\n",
    "    kp = np.zeros(12)\n",
    "    kd = np.zeros(12)\n",
    "    tau = np.zeros(12)\n",
    "    tau[0] = -0.8\n",
    "    robot.setCommands(q, dq, kp, kd, tau)\n",
    "    time.sleep(0.01)    "
   ]
  },
  {
   "cell_type": "markdown",
   "metadata": {},
   "source": [
    "# Highlevel Interface Test"
   ]
  },
  {
   "cell_type": "code",
   "execution_count": 1,
   "metadata": {},
   "outputs": [
    {
     "name": "stdout",
     "output_type": "stream",
     "text": [
      "pygame 2.5.2 (SDL 2.28.2, Python 3.8.10)\n",
      "Hello from the pygame community. https://www.pygame.org/contribute.html\n"
     ]
    }
   ],
   "source": [
    "from Go2Py.robot.interface.ros2 import GO2Real, ros2_init, ROS2ExecutorManager\n",
    "import time\n",
    "ros2_init()\n",
    "robot = GO2Real(mode='highlevel')\n",
    "ros2_exec_manager = ROS2ExecutorManager()\n",
    "ros2_exec_manager.add_node(robot)\n",
    "ros2_exec_manager.start()"
   ]
  },
  {
   "cell_type": "code",
   "execution_count": 2,
   "metadata": {},
   "outputs": [
    {
     "data": {
      "text/plain": [
       "{'q': array([-0.04306209,  1.25783372, -2.80307055,  0.01638752,  1.26682615,\n",
       "        -2.79090714, -0.3640998 ,  1.27342117, -2.8037343 ,  0.34069526,\n",
       "         1.27865911, -2.80908942]),\n",
       " 'dq': array([ 0.06975943,  0.00775105, -0.0323522 ,  0.00387552,  0.03875524,\n",
       "         0.        , -0.03875524,  0.00775105,  0.01819811,  0.04263076,\n",
       "         0.04263076, -0.01011006])}"
      ]
     },
     "execution_count": 2,
     "metadata": {},
     "output_type": "execute_result"
    }
   ],
   "source": [
    "robot.getJointStates()"
   ]
  },
  {
   "cell_type": "code",
   "execution_count": null,
   "metadata": {},
   "outputs": [],
   "source": []
  }
 ],
 "metadata": {
  "kernelspec": {
   "display_name": "Python 3",
   "language": "python",
   "name": "python3"
  },
  "language_info": {
   "codemirror_mode": {
    "name": "ipython",
    "version": 3
   },
   "file_extension": ".py",
   "mimetype": "text/x-python",
   "name": "python",
   "nbconvert_exporter": "python",
   "pygments_lexer": "ipython3",
   "version": "3.8.10"
  }
 },
 "nbformat": 4,
 "nbformat_minor": 4
}
